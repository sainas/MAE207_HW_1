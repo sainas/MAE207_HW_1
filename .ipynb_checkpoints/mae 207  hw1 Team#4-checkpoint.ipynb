{
 "cells": [
  {
   "cell_type": "markdown",
   "metadata": {},
   "source": [
    "# Assignment 1: ODrive setup and initial kinematics exploration\n",
    "\n",
    "In homework 1 we will learn the basic functionality of the ODrive motor controller and the kinematics of the 5-bar leg. There are 5 problems below. You will turn this assignment in by uploading it to your own github repository for this assignment and then sending a link to ngravish@eng.ucsd.edu with the subject MAE_207_HW1. The assignment is to be completed in pairs, one per team.\n",
    "\n",
    "If you would like, you directly ```fork``` this repository into your github account, this is found in the upper right hand corner. You can then download the repository to your computer using the ```clone``` button on the right side. Once you are done with the assignment, commit the changes back to the github online repository. \n",
    "\n",
    "Alternatively you can just download the .ipynb file, edit it as you solve the problems, and then in the end upload to a github repo.\n",
    "\n",
    "Team #: __4__\n",
    "\n",
    "Names: __Ziyang Sun, Saina Shawulieti__\n",
    "\n"
   ]
  },
  {
   "cell_type": "markdown",
   "metadata": {},
   "source": [
    "## Problem 1: Familiarization with ODrive firmware\n",
    "\n",
    "__1.1__ You should follow the instructions to flash the motor controller firmware found [here](https://github.com/madcowswe/ODrive).\n",
    "\n",
    "__1.2__ In the ```Odrive/Firmware/MotorControl``` folder are the code files that control the motor. The most important file is ```low_level.c```. Find this file and familiarize yourself with it. \n",
    "\n",
    "__1.3__ In ```low_level.c``` the main function for motor control is ```control_motor_loop(Motor_t* motor)```. Find this function and copy and paste blocks of it into the cell below.  Annotate the function step-by-step in simple language the operations it performs. (*I have started this annotation*). Use the three backticks \\`\\`\\` and the letter c for the c language to highlight each code block.\n",
    "\n",
    "\n",
    "\n",
    "\n"
   ]
  },
  {
   "cell_type": "markdown",
   "metadata": {},
   "source": [
    "```c\n",
    "void control_motor_loop(Motor_t* motor) {\n",
    "    while (*(motor->axis_legacy.enable_control)) {\n",
    "        if (osSignalWait(M_SIGNAL_PH_CURRENT_MEAS, PH_CURRENT_MEAS_TIMEOUT).status != osEventSignal) {\n",
    "            motor->error = ERROR_FOC_MEASUREMENT_TIMEOUT;\n",
    "            break;\n",
    "        }\n",
    "\n",
    "        if (!do_checks(motor))\n",
    "            break;\n",
    "        if (!loop_updates(motor))\n",
    "            break;\n",
    "```\n",
    "\n",
    "The above code initiates a loop that will continue as long as the enable_control flag is true. The first three if statements check for errors in the motor current measurement, and check if there are errors in the motor operation.\n",
    "\n",
    "```c\n",
    "\n",
    "        // Only runs if anticogging.calib_anticogging is true; non-blocking\n",
    "        anti_cogging_calibration(motor);\n",
    "```\n",
    "\n",
    "Unlike other torque which make the motor spin continuously, cogging torque only contributes to torque repple. This function can compensate and minimize torque ripple.\n",
    "Initial values of ```anticogging.use_anticogging``` and ```anticogging.calib_anticogging``` are both ```false```. To enable this  compensation algorithm, let ```anticogging.calib_anticogging``` be true to run the function. ```anticogging.use_anticogging``` will be ```true```, which means anti-cogging will be enabled, at the end of function if calibration goes well.  \n",
    "Here is a short introduction to [anti-cogging algorithmn](https://hackaday.com/2016/02/23/anti-cogging-algorithm-brings-out-the-best-in-your-hobby-brushless-motors/).\n",
    "\n",
    "```c\n",
    "        // Position control\n",
    "        // TODO Decide if we want to use encoder or pll position here\n",
    "        float vel_des = motor->vel_setpoint;\n",
    "        if (motor->control_mode >= CTRL_MODE_POSITION_CONTROL) {\n",
    "            if (motor->rotor_mode == ROTOR_MODE_SENSORLESS) {\n",
    "                motor->error = ERROR_POS_CTRL_DURING_SENSORLESS;\n",
    "                break;\n",
    "            }\n",
    "            float pos_err = motor->pos_setpoint - motor->encoder.pll_pos;\n",
    "            vel_des += motor->pos_gain * pos_err;\n",
    "        }\n",
    "\n",
    "        // Velocity limiting\n",
    "        float vel_lim = motor->vel_limit;\n",
    "        if (vel_des > vel_lim) vel_des = vel_lim;\n",
    "        if (vel_des < -vel_lim) vel_des = -vel_lim;\n",
    "```\n",
    "the vel_des is the velocity of motor, else if vel_des > vel_lim, the velocity will be vel_lim. In the same way, if vel_des < -vel_lim, the velocity will be -vel_lim.\n",
    "\n",
    "```c\n",
    "        // Velocity control\n",
    "        float Iq = motor->current_setpoint;\n",
    "\n",
    "        // Anti-cogging is enabled after calibration\n",
    "        // We get the current position and apply a current feed-forward\n",
    "        // ensuring that we handle negative encoder positions properly (-1 == motor->encoder.encoder_cpr - 1)\n",
    "        if (motor->anticogging.use_anticogging) {\n",
    "            Iq += motor->anticogging.cogging_map[mod(motor->encoder.pll_pos, motor->encoder.encoder_cpr)];\n",
    "        }\n",
    "\n",
    "        float v_err = vel_des - get_pll_vel(motor);\n",
    "        if (motor->control_mode >= CTRL_MODE_VELOCITY_CONTROL) {\n",
    "            Iq += motor->vel_gain * v_err;\n",
    "        }\n",
    "\n",
    "        // Velocity integral action before limiting\n",
    "        Iq += motor->vel_integrator_current;\n",
    "\n",
    "        // Apply motor direction correction\n",
    "        if (motor->rotor_mode == ROTOR_MODE_ENCODER ||\n",
    "            motor->rotor_mode == ROTOR_MODE_RUN_ENCODER_TEST_SENSORLESS) {\n",
    "            Iq *= motor->encoder.motor_dir;\n",
    "        }\n",
    "```\n",
    "when rotor_mode is ROTOR_MODE_ENCODER or ROTOR_MODE_RUN_ENCODER_TEST_SENSORLESS\n",
    "Iq=Iq*encoder.motor_dir This can judge the direction of the current\n",
    "```c\n",
    "        // Current limiting\n",
    "        float Ilim = MACRO_MIN(motor->current_control.current_lim, motor->current_control.max_allowed_current);\n",
    "        bool limited = false;\n",
    "        if (Iq > Ilim) {\n",
    "            limited = true;\n",
    "            Iq = Ilim;\n",
    "        }\n",
    "        if (Iq < -Ilim) {\n",
    "            limited = true;\n",
    "            Iq = -Ilim;\n",
    "        }\n",
    "```\n",
    "To set a current limit:Ilim, Ilim is the minnima of current_control.current_lim and current_control.max_allowed_current. When the absolute value of current is larger than the Ilim, it can not grow up. This can protect the motor.\n",
    "```c\n",
    "        // Velocity integrator (behaviour dependent on limiting)\n",
    "        if (motor->control_mode < CTRL_MODE_VELOCITY_CONTROL) {\n",
    "            // reset integral if not in use\n",
    "            motor->vel_integrator_current = 0.0f;\n",
    "        } else {\n",
    "            if (limited) {\n",
    "                // TODO make decayfactor configurable\n",
    "                motor->vel_integrator_current *= 0.99f;\n",
    "            } else {\n",
    "                motor->vel_integrator_current += (motor->vel_integrator_gain * current_meas_period) * v_err;\n",
    "            }\n",
    "        }\n",
    "\n",
    "        // Execute current command\n",
    "        if (motor->motor_type == MOTOR_TYPE_HIGH_CURRENT) {\n",
    "            if(!FOC_current(motor, 0.0f, Iq)){\n",
    "                break; // in case of error exit loop, motor->error has been set by FOC_current\n",
    "            }\n",
    "        } else if (motor->motor_type == MOTOR_TYPE_GIMBAL) {\n",
    "            //In gimbal motor mode, current is reinterptreted as voltage.\n",
    "            if(!FOC_voltage(motor, 0.0f, Iq)){\n",
    "                break; // in case of error exit loop, motor->error has been set by FOC_voltage\n",
    "            }\n",
    "        } else {\n",
    "            motor->error = ERROR_NOT_IMPLEMENTED_MOTOR_TYPE;\n",
    "            break;\n",
    "        }\n",
    "\n",
    "        ++(motor->loop_counter);\n",
    "    }\n",
    "\n",
    "    //We are exiting control, reset Ibus, and update brake current\n",
    "    motor->current_control.Ibus = 0.0f;\n",
    "    update_brake_current();\n",
    "}\n",
    "```"
   ]
  },
  {
   "cell_type": "markdown",
   "metadata": {},
   "source": [
    "## Problem 2: Connecting to ODrive through the python library"
   ]
  },
  {
   "cell_type": "markdown",
   "metadata": {},
   "source": [
    "__2.1__ The ODrive provides a python library called ```odrive``` in the ```/ODrive/Tools/``` directory. A python library consists of a folder (```odrive``` in this case) which contains python files and a file called ```__init__.py```. Find this library.\n",
    "\n",
    "__2.2__ Test that you can import the ```odrive``` library and other required libraries into Python by running the code below (shift-enter when the cell is selected). You may need to move your Copy the ```odrive``` folder to the same folder as this notebook, or move this notebook to the same directory as ```odrive```. \n",
    "\n"
   ]
  },
  {
   "cell_type": "code",
   "execution_count": 6,
   "metadata": {},
   "outputs": [],
   "source": [
    "import odrive.core\n",
    "import time\n",
    "import math\n",
    "\n",
    "import numpy as np\n",
    "import matplotlib.pyplot as plt\n",
    "\n",
    "from IPython.lib.display import YouTubeVideo # for youtube videos\n",
    "\n",
    "# This may be qt4 depending on your python environment\n",
    "%matplotlib qt5"
   ]
  },
  {
   "cell_type": "markdown",
   "metadata": {},
   "source": [
    "__2.3__ Run the code below to connect to the odrive motor controller. If this executes successfully you will be able to access the motor controller functions through the ```my_drive``` variable."
   ]
  },
  {
   "cell_type": "code",
   "execution_count": null,
   "metadata": {},
   "outputs": [],
   "source": [
    "my_drive = odrive.core.find_any(consider_usb=True, consider_serial=False, printer=print)\n",
    "\n",
    "# define handles to the motor functions\n",
    "m0=my_drive.motor0\n",
    "m1=my_drive.motor1\n"
   ]
  },
  {
   "cell_type": "markdown",
   "metadata": {},
   "source": [
    "## Problem 3: Exploring and interacting with the ODrive"
   ]
  },
  {
   "cell_type": "markdown",
   "metadata": {},
   "source": [
    "__3.1__ Write a function to call read the encoder position and velocity estimates and return them. As a start, the encoder position for motor 0 can be read using the ```m0.encoder.pll_pos,m1.encoder.pll_pos``` command. "
   ]
  },
  {
   "cell_type": "code",
   "execution_count": 3,
   "metadata": {},
   "outputs": [
    {
     "name": "stdout",
     "output_type": "stream",
     "text": [
      "(1.7913634777069092, 0.0394134521484375, 0.05570623278617859, -0.0298919677734375)\n"
     ]
    }
   ],
   "source": [
    "# in python we can define a function using the def command. The function definition code is indicated by tab indented code. When the \n",
    "# tab indentation stops the function definition has stopped. As shown below we can define a function and then call it immediately after\n",
    "def get_encoder_state():\n",
    "    \n",
    "    #\n",
    "    motor0_position=m0.encoder.pll_pos\n",
    "    motor1_position=m1.encoder.pll_pos\n",
    "    motor0_velocity=m0.encoder.pll_vel\n",
    "    motor1_velocity=m1.encoder.pll_vel\n",
    "    #\n",
    "    \n",
    "    return (motor0_position, motor0_velocity, motor1_position, motor1_velocity)\n",
    "    \n",
    "    \n",
    "# We can now call this function in the same code block\n",
    "state = get_encoder_state()\n",
    "print(state)"
   ]
  },
  {
   "cell_type": "markdown",
   "metadata": {},
   "source": [
    "__3.2__ The motor encoder returns absolute position measurements that are zerod on the position the motor was in during startup. It is useful to define new motor origins for the left and righ motor. Extend the legs so that they are straight and then read the encoder positions to the tuple variable \n",
    "\n",
    "```home_position = (motor0_home, motor1_home)```\n",
    "\n",
    "A tuple is like an array, it can contain sequences of objects (numbers, strings, etc.), but it cannot be changed after it is written so it is perfect for storing unchangeable data like the home location."
   ]
  },
  {
   "cell_type": "code",
   "execution_count": 9,
   "metadata": {},
   "outputs": [
    {
     "name": "stdout",
     "output_type": "stream",
     "text": [
      "(7.273032188415527, 1.6843255758285522)\n"
     ]
    }
   ],
   "source": [
    "#set home position\n",
    "motor0_home=m0.encoder.pll_pos\n",
    "motor1_home=m1.encoder.pll_pos\n",
    "home_position = (motor0_home, motor1_home)\n",
    "print(home_position)"
   ]
  },
  {
   "cell_type": "markdown",
   "metadata": {},
   "source": [
    "__3.3__ The motor move commands will move them to absolute positions with respect to the encoder zero position, this may not be the same as the ```home_position``` that we defined above. Write a function to move the motors to an absolute position relative to the ```home_position```. For reference we can move a motor with the ```set_pos_setpoint(pos_setpoint, vel_feed_forward, current_feed_forward)``` command. We don't need the feedforward terms in this problem."
   ]
  },
  {
   "cell_type": "code",
   "execution_count": 5,
   "metadata": {},
   "outputs": [
    {
     "data": {
      "text/plain": [
       "()"
      ]
     },
     "execution_count": 5,
     "metadata": {},
     "output_type": "execute_result"
    }
   ],
   "source": [
    "\n",
    "def move_motors(motor1_new_position, motor2_new_position, home):\n",
    "    #\n",
    "    \n",
    "    m0.encoder.pll_pos=motor1_new_position+home[0]\n",
    "    m1.encoder.pll_pos=motor2_new_position+home[1]\n",
    "    \n",
    "    return()\n",
    "    #\n",
    "\n",
    "# we can call the function here \n",
    "move_motors(100, 100, home_position) # note make the intial move distance small!!\n",
    "\n"
   ]
  },
  {
   "cell_type": "markdown",
   "metadata": {},
   "source": [
    "## Problem 4: Determine the workspace of the robot leg"
   ]
  },
  {
   "cell_type": "markdown",
   "metadata": {},
   "source": [
    "__4.1__ The end of the robot leg has a hole in it. Place a pen in the hole, place a paper below the robot and trace out the boundary of the robot leg's workspace by hand. Make sure to note where the edge of the aluminum frame is. Take a picture of the workspace tracing (keep your robot in place) and attach it to you this notebook. You can attach images by putting them in the same directory and then writing ```![Image description](filename.extension)```  "
   ]
  },
  {
   "cell_type": "markdown",
   "metadata": {},
   "source": [
    "![Workspace Tracing](problem4_1.jpg) "
   ]
  },
  {
   "cell_type": "markdown",
   "metadata": {},
   "source": [
    "__4.2__ Now repeat the measurement of the leg workspace while recording the encoder position (*relative to your new home*) in a loop. This is a measurement configuration space of the robot which is two dimensional ($\\theta_0$, $\\theta_1$), and bounded by the leg range of motion. Make a plot of the configuration space boundaries by plotting your measured positions as ```xy``` coordinates ($\\theta_0$, $\\theta_1$). Include two plots below, the first is the configuration space using encoder units, the second is scaled to $-\\pi,\\pi$. You will have to determined the calibration constant (note the encoder generates 2048\\*4 counts per revolution)."
   ]
  },
  {
   "cell_type": "code",
   "execution_count": 10,
   "metadata": {},
   "outputs": [
    {
     "data": {
      "text/plain": [
       "<matplotlib.text.Text at 0x1260128e9e8>"
      ]
     },
     "execution_count": 10,
     "metadata": {},
     "output_type": "execute_result"
    }
   ],
   "source": [
    "# Setup an array to store the encoder positions\n",
    "m0.config.pos_gain=0\n",
    "m1.config.pos_gain=0\n",
    "left_motor = [] # initialize a empty list. You can add to a list with the left_motor.append(item) command\n",
    "right_motor = [] # initialize an empty list\n",
    "left_motor_pi= []\n",
    "right_motor_pi = []\n",
    "calibration=(2048*4)/(2*math.pi)\n",
    "#different amplitude and phase combinations of your leg gait.    #???\n",
    "#my_drive.motor0.config.pos_gain=0\n",
    "#my_drive.motor1.config.pos_gain=0\n",
    "\n",
    "initial_time = time.monotonic()  # record the current time\n",
    "current_time = time.monotonic() \n",
    "\n",
    "while (current_time - initial_time) < 20:\n",
    "    \n",
    "    current_time = time.monotonic()\n",
    "    \n",
    "    left_motor.append(m0.encoder.pll_pos-home_position[0])\n",
    "    right_motor.append(m1.encoder.pll_pos-home_position[1])\n",
    "    left_motor_pi.append((m0.encoder.pll_pos-home_position[0])/calibration)\n",
    "    right_motor_pi.append((m1.encoder.pll_pos-home_position[1])/calibration)\n",
    "    #   Your code -- send position command\n",
    "    #   \n",
    "    #\n",
    "    #   Your code -- read encoder variables and save them to a list \n",
    "    #\n",
    "    \n",
    "    time.sleep(0.1)\n",
    "\n",
    "\n",
    "\n",
    "    \n",
    "# Plot the results using encoder values (centered on your new home) and scaled to be between -pi, pi\n",
    "plt.subplot(1,2,1)\n",
    "plt.plot(left_motor, right_motor)\n",
    "plt.xlabel('Left')\n",
    "plt.ylabel('Right')\n",
    "\n",
    "plt.subplot(1,2,2)\n",
    "plt.plot(left_motor_pi , right_motor_pi)\n",
    "plt.xlabel('Left')\n",
    "plt.ylabel('Right')\n"
   ]
  },
  {
   "cell_type": "markdown",
   "metadata": {},
   "source": [
    "![Result Plots Configuration Space](problem4_2.png) "
   ]
  },
  {
   "cell_type": "markdown",
   "metadata": {},
   "source": [
    "## Problem 5: Command a simple cyclic gait of the leg"
   ]
  },
  {
   "cell_type": "markdown",
   "metadata": {},
   "source": [
    "__5.1__ In this last problem we will command a simple cyclic gait of the leg by sending sinusoidal position commands to the motors and exploring how phase and amplitude differences influence the foot motion. Record the encoder position while running the gait and provide plots of the motor angles as a function of time. Additionally, take a video of each gait and post it to youtube, including a link in the notebook at the very bottom. You can include youtube videos by entering the command ```YouTubeVideo('video_code')``` in a code cell, where video code is found from the youtube page.\n",
    "\n",
    "*Provide plots and videos for three different gaits*\n"
   ]
  },
  {
   "cell_type": "code",
   "execution_count": null,
   "metadata": {},
   "outputs": [],
   "source": [
    "m0.config.pos_gain=0\n",
    "m1.config.pos_gain=0\n",
    "left_motor = [] \n",
    "right_motor = [] \n",
    "calibration=(2048*4)/(2*math.pi)\n",
    "initial_time = time.monotonic()  # record the current time\n",
    "current_time = time.monotonic() \n",
    "w=4\n",
    "Amplitude0=500\n",
    "Amplitude1=500\n",
    "phase_difference=math.pi/2\n",
    "\n",
    "\n",
    "while (current_time - initial_time) < 10:\n",
    "    \n",
    "    current_time = time.monotonic()\n",
    "    \n",
    "    move_motors(Amplitude0*(math.sin(w*(current_time - initial_time)+phase_difference)), Amplitude1*(math.sin(w*(current_time - initial_time))), home_position)   \n",
    "\n",
    "    left_motor.append(m0.encoder.pll_pos/calibration)\n",
    "    right_motor.append(m1.encoder.pll_pos/calibration)\n",
    "    \n",
    "\n",
    "    time.sleep(0.01)\n",
    "\n",
    "plt.subplot()\n",
    "plt.plot(left_motor, right_motor)\n",
    "plt.xlabel('Left')\n",
    "plt.ylabel('Right')"
   ]
  },
  {
   "cell_type": "markdown",
   "metadata": {},
   "source": [
    "![Gait 1 plot](500_90.png) "
   ]
  },
  {
   "cell_type": "code",
   "execution_count": 15,
   "metadata": {},
   "outputs": [
    {
     "data": {
      "image/jpeg": "[encoded data removed]",
      "text/html": [
       "\n",
       "        <iframe\n",
       "            width=\"400\"\n",
       "            height=\"300\"\n",
       "            src=\"https://www.youtube.com/embed/uu2G3v-m7Gg\"\n",
       "            frameborder=\"0\"\n",
       "            allowfullscreen\n",
       "        ></iframe>\n",
       "        "
      ],
      "text/plain": [
       "<IPython.lib.display.YouTubeVideo at 0x24be8c100f0>"
      ]
     },
     "execution_count": 15,
     "metadata": {},
     "output_type": "execute_result"
    }
   ],
   "source": [
    "YouTubeVideo('uu2G3v-m7Gg')"
   ]
  },
  {
   "cell_type": "code",
   "execution_count": null,
   "metadata": {},
   "outputs": [],
   "source": [
    "left_motor = [] \n",
    "right_motor = [] \n",
    "calibration=(2048*4)/(2*math.pi)\n",
    "initial_time = time.monotonic()  # record the current time\n",
    "current_time = time.monotonic() \n",
    "w=4\n",
    "Amplitude0=400\n",
    "Amplitude1=800\n",
    "phase_difference=math.pi/4\n",
    "\n",
    "\n",
    "while (current_time - initial_time) < 10:\n",
    "    \n",
    "    current_time = time.monotonic()\n",
    "    \n",
    "    move_motors(Amplitude0*(math.sin(w*(current_time - initial_time)+phase_difference)), Amplitude1*(math.sin(w*(current_time - initial_time))), home_position)   \n",
    "\n",
    "    left_motor.append(m0.encoder.pll_pos/calibration)\n",
    "    right_motor.append(m1.encoder.pll_pos/calibration)\n",
    "    \n",
    "\n",
    "    time.sleep(0.01)\n",
    "\n",
    "plt.subplot()\n",
    "plt.plot(left_motor, right_motor)\n",
    "plt.xlabel('Left')\n",
    "plt.ylabel('Right')\n"
   ]
  },
  {
   "cell_type": "markdown",
   "metadata": {},
   "source": [
    "![Gait 2 plot](400_800_45.png)"
   ]
  },
  {
   "cell_type": "code",
   "execution_count": 11,
   "metadata": {},
   "outputs": [
    {
     "data": {
      "image/jpeg": "[encoded data removed]",
      "text/html": [
       "\n",
       "        <iframe\n",
       "            width=\"400\"\n",
       "            height=\"300\"\n",
       "            src=\"https://www.youtube.com/embed/CNGXnnv1gp4\"\n",
       "            frameborder=\"0\"\n",
       "            allowfullscreen\n",
       "        ></iframe>\n",
       "        "
      ],
      "text/plain": [
       "<IPython.lib.display.YouTubeVideo at 0x24be8c04d68>"
      ]
     },
     "execution_count": 11,
     "metadata": {},
     "output_type": "execute_result"
    }
   ],
   "source": [
    "YouTubeVideo('CNGXnnv1gp4')"
   ]
  },
  {
   "cell_type": "code",
   "execution_count": null,
   "metadata": {},
   "outputs": [],
   "source": [
    "left_motor = [] \n",
    "right_motor = [] \n",
    "calibration=(2048*4)/(2*math.pi)\n",
    "initial_time = time.monotonic()  # record the current time\n",
    "current_time = time.monotonic() \n",
    "w=4\n",
    "Amplitude0=500\n",
    "Amplitude1=500\n",
    "phase_difference=0\n",
    "\n",
    "\n",
    "while (current_time - initial_time) < 10:\n",
    "    \n",
    "    current_time = time.monotonic()\n",
    "    \n",
    "    move_motors(Amplitude0*(math.sin(w*(current_time - initial_time)+phase_difference)), Amplitude1*(math.sin(w*(current_time - initial_time))), home_position)   \n",
    "\n",
    "    left_motor.append(m0.encoder.pll_pos/calibration)\n",
    "    right_motor.append(m1.encoder.pll_pos/calibration)\n",
    "    \n",
    "\n",
    "    time.sleep(0.01)\n",
    "\n",
    "plt.subplot()\n",
    "plt.plot(left_motor, right_motor)\n",
    "plt.xlabel('Left')\n",
    "plt.ylabel('Right')"
   ]
  },
  {
   "cell_type": "markdown",
   "metadata": {},
   "source": [
    "![Gait 3 plot](500_500_0.png)"
   ]
  },
  {
   "cell_type": "code",
   "execution_count": 13,
   "metadata": {},
   "outputs": [
    {
     "data": {
      "image/jpeg": "[encoded data removed]",
      "text/html": [
       "\n",
       "        <iframe\n",
       "            width=\"400\"\n",
       "            height=\"300\"\n",
       "            src=\"https://www.youtube.com/embed/pHjSGI1o4js\"\n",
       "            frameborder=\"0\"\n",
       "            allowfullscreen\n",
       "        ></iframe>\n",
       "        "
      ],
      "text/plain": [
       "<IPython.lib.display.YouTubeVideo at 0x24be8c04c50>"
      ]
     },
     "execution_count": 13,
     "metadata": {},
     "output_type": "execute_result"
    }
   ],
   "source": [
    "YouTubeVideo('pHjSGI1o4js')"
   ]
  }
 ],
 "metadata": {
  "kernelspec": {
   "display_name": "Python 3",
   "language": "python",
   "name": "python3"
  },
  "language_info": {
   "codemirror_mode": {
    "name": "ipython",
    "version": 3
   },
   "file_extension": ".py",
   "mimetype": "text/x-python",
   "name": "python",
   "nbconvert_exporter": "python",
   "pygments_lexer": "ipython3",
   "version": "3.6.4"
  }
 },
 "nbformat": 4,
 "nbformat_minor": 2
}
